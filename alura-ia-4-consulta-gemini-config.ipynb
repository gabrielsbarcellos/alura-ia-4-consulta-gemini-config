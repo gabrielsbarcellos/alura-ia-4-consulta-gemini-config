{
  "nbformat": 4,
  "nbformat_minor": 0,
  "metadata": {
    "colab": {
      "provenance": [],
      "authorship_tag": "ABX9TyM3/WCdYpjDcb0wPa2BxzmT",
      "include_colab_link": true
    },
    "kernelspec": {
      "name": "python3",
      "display_name": "Python 3"
    },
    "language_info": {
      "name": "python"
    }
  },
  "cells": [
    {
      "cell_type": "markdown",
      "metadata": {
        "id": "view-in-github",
        "colab_type": "text"
      },
      "source": [
        "<a href=\"https://colab.research.google.com/github/gabrielsbarcellos/alura-ia-4-consulta-gemini-config/blob/main/alura-ia-4-consulta-gemini-config.ipynb\" target=\"_parent\"><img src=\"https://colab.research.google.com/assets/colab-badge.svg\" alt=\"Open In Colab\"/></a>"
      ]
    },
    {
      "cell_type": "code",
      "execution_count": null,
      "metadata": {
        "id": "RUJ_mSf6wXjY"
      },
      "outputs": [],
      "source": [
        "!pip install -q -U google-generativeai"
      ]
    },
    {
      "cell_type": "code",
      "source": [
        "import google.generativeai as gemini\n",
        "\n",
        "# importa do google colab um objeto especial chamado userdata o qual\n",
        "# pode conter diversas variaveis de ambiente visiveis apenas no colab e apenas\n",
        "# pelo usuário dono das variaveis.\n",
        "from google.colab import userdata\n",
        "\n",
        "# inicia a variavel GOOGLE_API_KEY com o valor real da api key do usuario logado,\n",
        "# (considerando que ela esteja de fato salva no secrets do colab e com a mesma\n",
        "# nomenclatura, MY_GOOGLE_API_KEY)\n",
        "GOOGLE_API_KEY = userdata.get('MY_GOOGLE_API_KEY')\n",
        "\n",
        "gemini.configure(api_key=GOOGLE_API_KEY)"
      ],
      "metadata": {
        "id": "t0-yf_Jfw0Qb"
      },
      "execution_count": null,
      "outputs": []
    },
    {
      "cell_type": "code",
      "source": [
        "# listar os modelos disponíveis\n",
        "# só para saber qual usar nas hora de instanciar,\n",
        "# mas vai ser colocado manualmente, é apenas a\n",
        "# titulo de curiosidade\n",
        "for m in gemini.list_models():\n",
        "  if 'generateContent' in m.supported_generation_methods:\n",
        "    print(m.name)\n"
      ],
      "metadata": {
        "colab": {
          "base_uri": "https://localhost:8080/",
          "height": 138
        },
        "id": "yLxyxOUMw4xT",
        "outputId": "975b18e3-e038-4d97-f062-a3025f4d93c2"
      },
      "execution_count": null,
      "outputs": [
        {
          "output_type": "stream",
          "name": "stdout",
          "text": [
            "models/gemini-1.0-pro\n",
            "models/gemini-1.0-pro-001\n",
            "models/gemini-1.0-pro-latest\n",
            "models/gemini-1.0-pro-vision-latest\n",
            "models/gemini-1.5-pro-latest\n",
            "models/gemini-pro\n",
            "models/gemini-pro-vision\n"
          ]
        }
      ]
    },
    {
      "cell_type": "code",
      "source": [
        "generation_config = {\n",
        "    \"candidate_count\": 1,\n",
        "    \"temperature\": 0.5,\n",
        "    \"top_p\": 0.95,\n",
        "    \"top_k\": 35\n",
        "}"
      ],
      "metadata": {
        "id": "7UGOBfT2SXTJ"
      },
      "execution_count": null,
      "outputs": []
    },
    {
      "cell_type": "code",
      "source": [
        "# BLOCK = [\"BLOCK_NONE\",\"BLOCK_FEW\",\"BLOCK_SOME\",\"BLOCK_MOST\"]\n",
        "\n",
        "safety_settings = {\n",
        "    \"HARASSMENT\": \"BLOCK_NONE\",\n",
        "    \"HATE\": \"BLOCK_NONE\",\n",
        "    \"SEXUAL\": \"BLOCK_NONE\",\n",
        "    \"DANGEROUS\": \"BLOCK_NONE\"\n",
        "}"
      ],
      "metadata": {
        "id": "I0KLyc-EgW2W"
      },
      "execution_count": null,
      "outputs": []
    },
    {
      "cell_type": "code",
      "source": [
        "# neste caso o modelo (cliente) que fará as requisições com a IA está sendo\n",
        "# configurado, mas caso o usuario não passe nada por parametro o sistema\n",
        "# assume valores padrão para os campos (uma configuração padrão)\n",
        "\n",
        "model = gemini.GenerativeModel(\n",
        "    model_name='gemini-1.0-pro',\n",
        "    generation_config=generation_config,\n",
        "    safety_settings = safety_settings\n",
        ")"
      ],
      "metadata": {
        "id": "ogRgwNHCisBA"
      },
      "execution_count": null,
      "outputs": []
    },
    {
      "cell_type": "code",
      "source": [
        "response = model.generate_content(\"Qual é o melhor time do Rio Grande do Sul?\")\n",
        "print(response.text)"
      ],
      "metadata": {
        "colab": {
          "base_uri": "https://localhost:8080/",
          "height": 34
        },
        "id": "4WzNG9r3mAfO",
        "outputId": "f63bdb60-40e7-43e9-876e-bc61461a9323"
      },
      "execution_count": null,
      "outputs": [
        {
          "output_type": "stream",
          "name": "stdout",
          "text": [
            "Internacional\n"
          ]
        }
      ]
    }
  ]
}